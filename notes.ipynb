{
 "cells": [
  {
   "cell_type": "markdown",
   "metadata": {},
   "source": [
    "# 4a5e1\n",
    "\n",
    "This is a reference to the Bitcoin's genesis block hash. These are the first five hex-encoded characters (depending on the endianness you're using). That is our first clue."
   ]
  },
  {
   "cell_type": "code",
   "execution_count": null,
   "metadata": {},
   "outputs": [],
   "source": [
    "import matplotlib.pyplot as plt\n",
    "import numpy as np\n",
    "import json\n",
    "import requests\n",
    "import dbm\n",
    "\n",
    "with open(\"posts.json\", \"r\") as f:\n",
    "    post_data = json.load(f)\n",
    "\n",
    "titles = []\n",
    "bodies = []\n",
    "footers = []\n",
    "for post in post_data:\n",
    "    titles.append(post[\"title\"])\n",
    "    bodies.append(post[\"body\"])\n",
    "    footers.append(post[\"footer\"])\n"
   ]
  },
  {
   "cell_type": "markdown",
   "metadata": {},
   "source": [
    "## Decoding the Bodies"
   ]
  },
  {
   "cell_type": "code",
   "execution_count": null,
   "metadata": {},
   "outputs": [],
   "source": [
    "def apiGetBlockHash(height):\n",
    "    url = f\"https://mempool.space/api/block-height/{height}\"\n",
    "    resp = requests.get(url=url)\n",
    "\n",
    "    if resp.status_code != 200:\n",
    "        print(f\"error getting data: status_code {resp.status_code}\")\n",
    "        raise KeyboardInterrupt\n",
    "    else:\n",
    "        blockhash = resp.content.decode()\n",
    "\n",
    "    return blockhash\n",
    "\n",
    "\n",
    "def apiGetTxId(blockhash, txindex):\n",
    "    url = f\"https://mempool.space/api/block/{blockhash}/txid/{txindex}\"\n",
    "    resp = requests.get(url=url)\n",
    "\n",
    "    if resp.status_code != 200:\n",
    "        print(f\"error getting data: status_code {resp.status_code}\")\n",
    "        raise KeyboardInterrupt\n",
    "    else:\n",
    "        txid = resp.content.decode()\n",
    "\n",
    "    return txid"
   ]
  },
  {
   "cell_type": "markdown",
   "metadata": {},
   "source": [
    "### Layer 1\n",
    "\n",
    "By breaking up the body of each post into groups of three (block height, transaction number, index of hex character), we get the following hex-encoded strings:"
   ]
  },
  {
   "cell_type": "code",
   "execution_count": null,
   "metadata": {},
   "outputs": [],
   "source": [
    "with dbm.open('kvs_height_blockhash', 'c') as kvs_height_blockhash:\n",
    "    with dbm.open('kvs_blockhash_txindex_txid', 'c') as kvs_blockhash_txindex_txid:\n",
    "        for n, body in enumerate(bodies):\n",
    "\n",
    "            x = [int(x) for x in body.split(\"-\")]\n",
    "            g = [(x[i], x[i+1], x[i+2]) for i in range(0, len(x), 3)]\n",
    "            \n",
    "            hexstr = \"\"\n",
    "            for height, txindex, i in g:\n",
    "                \n",
    "                if str(height) in kvs_height_blockhash:\n",
    "                    blockhash = kvs_height_blockhash[str(height)].decode()\n",
    "                else:\n",
    "                    blockhash = apiGetBlockHash(height)\n",
    "                    kvs_height_blockhash[str(height)] = blockhash\n",
    "\n",
    "                if f\"{blockhash}_{txindex}\" in kvs_blockhash_txindex_txid:\n",
    "                    txid = kvs_blockhash_txindex_txid[f\"{blockhash}_{txindex}\"].decode()\n",
    "                else:\n",
    "                    txid = apiGetTxId(blockhash, txindex)\n",
    "                    kvs_blockhash_txindex_txid[f\"{blockhash}_{txindex}\"] = txid\n",
    "\n",
    "                hexstr += txid[i]\n",
    "\n",
    "            print(f\"{n+1}. {bytes.fromhex(hexstr).decode()}\")"
   ]
  },
  {
   "cell_type": "markdown",
   "metadata": {},
   "source": [
    "Note that most entries are the same, but 6 is different. It provides the \"magic number\" 5487-3. (I called it that because that's what it was called in Layer 2 below.)"
   ]
  },
  {
   "cell_type": "markdown",
   "metadata": {},
   "source": [
    "### Layer 2\n",
    "\n",
    "By subtracting pairs of tuples, we get a new set of tuples that provides more hex encoded strings:"
   ]
  },
  {
   "cell_type": "code",
   "execution_count": null,
   "metadata": {},
   "outputs": [],
   "source": [
    "with dbm.open('kvs_height_blockhash', 'c') as kvs_height_blockhash:\n",
    "    with dbm.open('kvs_blockhash_txindex_txid', 'c') as kvs_blockhash_txindex_txid:\n",
    "        for n, body in enumerate(bodies):\n",
    "\n",
    "            x = [int(x) for x in body.split(\"-\")]\n",
    "            g = [(x[i], x[i+1], x[i+2]) for i in range(0, len(x), 3)]\n",
    "            \n",
    "            # here is the \"basic math referenced\"\n",
    "            gg = [(g[x+1][0] - g[x][0],g[x+1][1] - g[x][1],g[x+1][2] - g[x][2],) for x in range(0, len(g), 2)]\n",
    "\n",
    "            hexstr = \"\"\n",
    "            for height, txindex, i in gg:\n",
    "                \n",
    "                if str(height) in kvs_height_blockhash:\n",
    "                    blockhash = kvs_height_blockhash[str(height)].decode()\n",
    "                else:\n",
    "                    blockhash = apiGetBlockHash(height)\n",
    "                    kvs_height_blockhash[str(height)] = blockhash\n",
    "\n",
    "                if f\"{blockhash}_{txindex}\" in kvs_blockhash_txindex_txid:\n",
    "                    txid = kvs_blockhash_txindex_txid[f\"{blockhash}_{txindex}\"].decode()\n",
    "                else:\n",
    "                    txid = apiGetTxId(blockhash, txindex)\n",
    "                    kvs_blockhash_txindex_txid[f\"{blockhash}_{txindex}\"] = txid\n",
    "                    \n",
    "                hexstr += txid[i]\n",
    "            \n",
    "            print(f\"{n+1}. {bytes.fromhex(hexstr).decode()}\")\n",
    "\n"
   ]
  },
  {
   "cell_type": "markdown",
   "metadata": {},
   "source": [
    "These quotes are attributed to the following people:\n",
    "- Albert Einstein [1-4]\n",
    "- Ursula K. Le Guin [13]\n",
    "- Confucious [14]\n",
    "- Walter Elliot [15]\n",
    "- Roy T. Bennett [16]\n",
    "\n",
    "Einstein's birthday is March 14, 1879. This is 3/14, presumably meaning we will need to look at value of $\\pi$.\n",
    "\n",
    "What do these \"magic numbers\" mean?"
   ]
  },
  {
   "cell_type": "markdown",
   "metadata": {},
   "source": [
    "## New Territory\n",
    "\n",
    "The code below is speculative and hasn't led to further clues yet."
   ]
  },
  {
   "cell_type": "markdown",
   "metadata": {},
   "source": [
    "## Magic Numbers\n",
    "\n",
    "Based on my conversation with the person who made this puzzle, I know the titles have something to do with the decimal digits of pi. Beyond that, I'm not sure. I don't know if the magic numbers are involved in this process or not."
   ]
  },
  {
   "cell_type": "code",
   "execution_count": null,
   "metadata": {},
   "outputs": [],
   "source": [
    "# load the decimimal representation of pi\n",
    "with open(\"pi.txt\", \"r\") as f:\n",
    "    pistr = f.read()\n",
    "    # pistr = pistr[0] + pistr[2:] # remove decimal point\n",
    "\n",
    "magic_numbers = [\n",
    "    (2048, 3),  # from Layer 2\n",
    "    (780000, 4),  # from Layer 2\n",
    "    (123, 4),  # from Layer 2\n",
    "    (8976, 4),  # from Layer 2\n",
    "    (0, 0),  # ???\n",
    "    (5487, 3),  # from Layer 1\n",
    "    (1678, 4),  # from Layer 2\n",
    "    (123456, 3),  # from Layer 2\n",
    "    (11, 4),  # from Layer 2\n",
    "    (0, 0),  # ???\n",
    "    (123, 5),  # from Layer 2\n",
    "    (1891, 3),  # from Layer 2\n",
    "    (902101, 4),  # from Layer 2\n",
    "    (761761, 3),  # from Layer 2\n",
    "    (12121, 2),  # from Layer 2\n",
    "    (12312, 3),  # from Layer 2\n",
    "]\n",
    "\n",
    "for mn in magic_numbers:\n",
    "    print(pistr[mn[0]:mn[0]+mn[1]])"
   ]
  },
  {
   "cell_type": "markdown",
   "metadata": {},
   "source": [
    "## Decoding the Titles\n",
    "\n",
    "My attempts at doing so. The code below hasn't produced anything meaningful yet."
   ]
  },
  {
   "cell_type": "markdown",
   "metadata": {},
   "source": [
    "### Distribution of Numbers in Titles"
   ]
  },
  {
   "cell_type": "code",
   "execution_count": null,
   "metadata": {},
   "outputs": [],
   "source": [
    "occurances = dict()\n",
    "for title in titles:\n",
    "    ds = [int(s) for s in title.split(\"-\")]\n",
    "    for d in ds:\n",
    "        if d in occurances.keys():\n",
    "            occurances[d] += 1\n",
    "        else:\n",
    "            occurances[d] = 1\n",
    "\n",
    "x = np.array([x[0] for x in sorted(occurances.items())])\n",
    "y = np.array([x[1] for x in sorted(occurances.items())])\n",
    "y = y / np.sum(y)\n",
    "\n",
    "z = np.cumsum(y)\n",
    "\n",
    "plt.figure()\n",
    "\n",
    "plt.subplot(2,1,1)\n",
    "plt.plot(x, y / sum(y)) # probability mass function\n",
    "\n",
    "plt.subplot(2,1,2)\n",
    "plt.plot(x, z) # cumulative mass function\n",
    "plt.hlines([0.5], 0, np.max(x))\n",
    "\n",
    "plt.show()"
   ]
  },
  {
   "cell_type": "markdown",
   "metadata": {},
   "source": [
    "Based on this distribution, I suspect that these numbers indicate how many digits ahead to look from the current digit of pi. The trick is knowing where to start looking."
   ]
  },
  {
   "cell_type": "code",
   "execution_count": null,
   "metadata": {},
   "outputs": [],
   "source": [
    "occurances = dict()\n",
    "for i in range(10):\n",
    "    occurances[i] = 0\n",
    "\n",
    "i = 0\n",
    "for title in sorted(titles, key=lambda title: int(title.split(\"-\")[0])):\n",
    "    ds = [int(s) for s in title.split(\"-\")]\n",
    "    # print(ds[0], end=\": \")\n",
    "    \n",
    "    print(ds[0], end=\": \")\n",
    "    for d in ds:\n",
    "        i += d\n",
    "        digit = int(pistr[i])\n",
    "        print(digit, end=\"\")\n",
    "        occurances[digit] += 1\n",
    "    print()\n",
    "\n",
    "x = [x[0] for x in sorted(occurances.items())]\n",
    "y = [x[1] for x in sorted(occurances.items())]\n",
    "\n",
    "plt.figure()\n",
    "plt.plot(x,y)\n",
    "plt.ylim([0, 100])\n",
    "plt.show()"
   ]
  }
 ],
 "metadata": {
  "kernelspec": {
   "display_name": "Python 3",
   "language": "python",
   "name": "python3"
  },
  "language_info": {
   "codemirror_mode": {
    "name": "ipython",
    "version": 3
   },
   "file_extension": ".py",
   "mimetype": "text/x-python",
   "name": "python",
   "nbconvert_exporter": "python",
   "pygments_lexer": "ipython3",
   "version": "3.12.5"
  }
 },
 "nbformat": 4,
 "nbformat_minor": 2
}
